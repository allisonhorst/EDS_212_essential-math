{
 "cells": [
  {
   "cell_type": "code",
   "execution_count": 1,
   "id": "cbd9ab50",
   "metadata": {},
   "outputs": [],
   "source": [
    "import sympy as sym"
   ]
  },
  {
   "cell_type": "code",
   "execution_count": 8,
   "id": "1b32e2e1",
   "metadata": {},
   "outputs": [
    {
     "data": {
      "text/latex": [
       "$\\displaystyle 5 x^{4}$"
      ],
      "text/plain": [
       "5*x**4"
      ]
     },
     "execution_count": 8,
     "metadata": {},
     "output_type": "execute_result"
    }
   ],
   "source": [
    "# Clarify x as mathematical symbol (not a stored object)\n",
    "x = sym.Symbol('x')\n",
    "\n",
    "# Find the derivative of x^5\n",
    "sym.diff(x**5)"
   ]
  },
  {
   "cell_type": "code",
   "execution_count": 11,
   "id": "cf7fc3f1",
   "metadata": {},
   "outputs": [
    {
     "data": {
      "text/latex": [
       "$\\displaystyle 2 - 3 \\sin{\\left(x \\right)}$"
      ],
      "text/plain": [
       "2 - 3*sin(x)"
      ]
     },
     "execution_count": 11,
     "metadata": {},
     "output_type": "execute_result"
    }
   ],
   "source": [
    "# Find the derivative of 2x-5+3cos(x)\n",
    "sym.diff(2*x-5+3*sym.cos(x))"
   ]
  },
  {
   "cell_type": "code",
   "execution_count": null,
   "id": "591f8a8e",
   "metadata": {},
   "outputs": [],
   "source": []
  }
 ],
 "metadata": {
  "kernelspec": {
   "display_name": "Python 3",
   "language": "python",
   "name": "python3"
  },
  "language_info": {
   "codemirror_mode": {
    "name": "ipython",
    "version": 3
   },
   "file_extension": ".py",
   "mimetype": "text/x-python",
   "name": "python",
   "nbconvert_exporter": "python",
   "pygments_lexer": "ipython3",
   "version": "3.8.8"
  }
 },
 "nbformat": 4,
 "nbformat_minor": 5
}
